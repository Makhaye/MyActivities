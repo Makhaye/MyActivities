{
 "cells": [
  {
   "cell_type": "code",
   "execution_count": 1,
   "id": "87d3fbef-f638-4d52-93bc-d67c89964237",
   "metadata": {},
   "outputs": [
    {
     "name": "stdout",
     "output_type": "stream",
     "text": [
      "Original list: [10, 7, 26, 43, 3, 13, 11]\n",
      "Sorted list using Bubble Sort: [3, 7, 10, 11, 13, 26, 43]\n"
     ]
    }
   ],
   "source": [
    "def bubble_sort(arr):\n",
    "    n = len(arr)\n",
    "    for i in range(n):\n",
    "        # Last i elements are already sorted\n",
    "        for j in range(0, n-i-1):\n",
    "            # Swap if the element found is greater than the next element\n",
    "            if arr[j] > arr[j+1]:\n",
    "                arr[j], arr[j+1] = arr[j+1], arr[j]\n",
    "\n",
    "# Given list of elements\n",
    "elements = [10, 7, 26, 43, 3, 13, 11]\n",
    "print(\"Original list:\", elements)\n",
    "\n",
    "bubble_sort(elements)\n",
    "print(\"Sorted list using Bubble Sort:\", elements)"
   ]
  },
  {
   "cell_type": "code",
   "execution_count": 2,
   "id": "0888a2c4-e926-4fc2-87e5-70fe16be1310",
   "metadata": {},
   "outputs": [
    {
     "name": "stdout",
     "output_type": "stream",
     "text": [
      "Original list: [10, 7, 26, 43, 3, 13, 11]\n",
      "Sorted list using Insertion Sort: [3, 7, 10, 11, 13, 26, 43]\n"
     ]
    }
   ],
   "source": [
    "def insertion_sort(arr):\n",
    "    # Traverse through 1 to len(arr)\n",
    "    for i in range(1, len(arr)):\n",
    "        key = arr[i]\n",
    "        # Move elements of arr[0..i-1], that are greater than key, to one position ahead of their current position\n",
    "        j = i - 1\n",
    "        while j >= 0 and key < arr[j]:\n",
    "            arr[j + 1] = arr[j]\n",
    "            j -= 1\n",
    "        arr[j + 1] = key\n",
    "\n",
    "# Given list of elements\n",
    "elements = [10, 7, 26, 43, 3, 13, 11]\n",
    "print(\"Original list:\", elements)\n",
    "\n",
    "insertion_sort(elements)\n",
    "print(\"Sorted list using Insertion Sort:\", elements)\n"
   ]
  },
  {
   "cell_type": "code",
   "execution_count": 3,
   "id": "020a63d1-0c0e-446a-a9b2-0d1f03523d98",
   "metadata": {},
   "outputs": [
    {
     "name": "stdout",
     "output_type": "stream",
     "text": [
      "Original list: [10, 7, 26, 43, 3, 13, 11]\n",
      "Heapify iteration (building maxheap): [10, 7, 26, 43, 3, 13, 11]\n",
      "Heapify iteration (building maxheap): [10, 43, 26, 7, 3, 13, 11]\n",
      "Heapify iteration (building maxheap): [43, 10, 26, 7, 3, 13, 11]\n",
      "Extract iteration (before heapify): [11, 10, 26, 7, 3, 13, 43]\n",
      "Extract iteration (after heapify): [26, 10, 13, 7, 3, 11, 43]\n",
      "Extract iteration (before heapify): [11, 10, 13, 7, 3, 26, 43]\n",
      "Extract iteration (after heapify): [13, 10, 11, 7, 3, 26, 43]\n",
      "Extract iteration (before heapify): [3, 10, 11, 7, 13, 26, 43]\n",
      "Extract iteration (after heapify): [11, 10, 3, 7, 13, 26, 43]\n",
      "Extract iteration (before heapify): [7, 10, 3, 11, 13, 26, 43]\n",
      "Extract iteration (after heapify): [10, 7, 3, 11, 13, 26, 43]\n",
      "Extract iteration (before heapify): [3, 7, 10, 11, 13, 26, 43]\n",
      "Extract iteration (after heapify): [7, 3, 10, 11, 13, 26, 43]\n",
      "Extract iteration (before heapify): [3, 7, 10, 11, 13, 26, 43]\n",
      "Extract iteration (after heapify): [3, 7, 10, 11, 13, 26, 43]\n",
      "Sorted list using Heap Sort: [3, 7, 10, 11, 13, 26, 43]\n"
     ]
    }
   ],
   "source": [
    "def heapify(arr, n, i):\n",
    "    largest = i # Initialize largest as root\n",
    "    left = 2 * i + 1 # left = 2*i + 1\n",
    "    right = 2 * i + 2 # right = 2*i + 2\n",
    "\n",
    "    # See if left child of root exists and is greater than root\n",
    "    if left < n and arr[i] < arr[left]:\n",
    "        largest = left\n",
    "\n",
    "    # See if right child of root exists and is greater than root\n",
    "    if right < n and arr[largest] < arr[right]:\n",
    "        largest = right\n",
    "\n",
    "    # Change root, if needed\n",
    "    if largest != i:\n",
    "        arr[i], arr[largest] = arr[largest], arr[i] # swap\n",
    "\n",
    "        # Heapify the root.\n",
    "        heapify(arr, n, largest)\n",
    "\n",
    "def heap_sort(arr):\n",
    "    n = len(arr)\n",
    "\n",
    "    # Build a maxheap.\n",
    "    for i in range(n//2 - 1, -1, -1):\n",
    "        heapify(arr, n, i)\n",
    "        print(f\"Heapify iteration (building maxheap): {arr}\")\n",
    "\n",
    "    # One by one extract elements\n",
    "    for i in range(n-1, 0, -1):\n",
    "        arr[i], arr[0] = arr[0], arr[i] # swap\n",
    "        print(f\"Extract iteration (before heapify): {arr}\")\n",
    "        heapify(arr, i, 0)\n",
    "        print(f\"Extract iteration (after heapify): {arr}\")\n",
    "\n",
    "# Given list of elements\n",
    "elements = [10, 7, 26, 43, 3, 13, 11]\n",
    "print(\"Original list:\", elements)\n",
    "\n",
    "heap_sort(elements)\n",
    "print(\"Sorted list using Heap Sort:\", elements)\n"
   ]
  },
  {
   "cell_type": "code",
   "execution_count": 4,
   "id": "956d296a-9b70-4201-8e7a-0f12574f1fdf",
   "metadata": {},
   "outputs": [
    {
     "name": "stdout",
     "output_type": "stream",
     "text": [
      "Element 13 found at index 4\n"
     ]
    }
   ],
   "source": [
    "def binary_search(arr, target):\n",
    "    left, right = 0, len(arr) - 1\n",
    "\n",
    "    while left <= right:\n",
    "        mid = left + (right - left) // 2\n",
    "\n",
    "        # Check if target is present at mid\n",
    "        if arr[mid] == target:\n",
    "            return mid\n",
    "        # If target is greater, ignore the left half\n",
    "        elif arr[mid] < target:\n",
    "            left = mid + 1\n",
    "        # If target is smaller, ignore the right half\n",
    "        else:\n",
    "            right = mid - 1\n",
    "\n",
    "    # Target was not found in the array\n",
    "    return -1\n",
    "\n",
    "# Example usage\n",
    "sorted_elements = [3, 7, 10, 11, 13, 26, 43]\n",
    "target_element = 13\n",
    "\n",
    "# Make sure the list is sorted before performing binary search\n",
    "sorted_elements.sort()\n",
    "result = binary_search(sorted_elements, target_element)\n",
    "\n",
    "if result != -1:\n",
    "    print(f\"Element {target_element} found at index {result}\")\n",
    "else:\n",
    "    print(f\"Element {target_element} not found in the list\")\n"
   ]
  },
  {
   "cell_type": "markdown",
   "id": "b6bc3e73-8b85-45fd-b491-cae67716c0c6",
   "metadata": {},
   "source": [
    "Linear search is a straightforward searching algorithm that checks each element of the list sequentially until the desired element is found or the end of the list is reached. It's simple to implement and understand but can be inefficient for large lists because it may require examining each element."
   ]
  },
  {
   "cell_type": "code",
   "execution_count": null,
   "id": "c4b75939-36b9-4491-98f6-14e66055f6a3",
   "metadata": {},
   "outputs": [],
   "source": []
  }
 ],
 "metadata": {
  "kernelspec": {
   "display_name": "Python 3 (ipykernel)",
   "language": "python",
   "name": "python3"
  },
  "language_info": {
   "codemirror_mode": {
    "name": "ipython",
    "version": 3
   },
   "file_extension": ".py",
   "mimetype": "text/x-python",
   "name": "python",
   "nbconvert_exporter": "python",
   "pygments_lexer": "ipython3",
   "version": "3.12.2"
  }
 },
 "nbformat": 4,
 "nbformat_minor": 5
}
