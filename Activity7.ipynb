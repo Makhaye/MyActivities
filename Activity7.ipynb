{
 "cells": [
  {
   "cell_type": "code",
   "execution_count": 5,
   "id": "7b31c679-d0a2-40a8-9cb7-0c80026e7296",
   "metadata": {},
   "outputs": [],
   "source": [
    "import seaborn as sns\n",
    "import matplotlib.pyplot as plt\n",
    "import pandas as pd"
   ]
  },
  {
   "cell_type": "code",
   "execution_count": 9,
   "id": "4a531689-69c6-4000-9e40-8e4dad8924a5",
   "metadata": {},
   "outputs": [
    {
     "name": "stdout",
     "output_type": "stream",
     "text": [
      "                   Name  Jersey Number     Club    Position Nationality   Age  \\\n",
      "0            Bernd Leno            1.0  Arsenal  Goalkeeper     Germany  28.0   \n",
      "1            Matt Macey           33.0  Arsenal  Goalkeeper     England  26.0   \n",
      "2  Rúnar Alex Rúnarsson           13.0  Arsenal  Goalkeeper     Iceland  25.0   \n",
      "3       Héctor Bellerín            2.0  Arsenal    Defender       Spain  25.0   \n",
      "4        Kieran Tierney            3.0  Arsenal    Defender    Scotland  23.0   \n",
      "\n",
      "   Appearances  Wins  Losses  Goals  ...  Punches  High Claims  Catches  \\\n",
      "0           64    28      16      0  ...     34.0         26.0     17.0   \n",
      "1            0     0       0      0  ...      0.0          0.0      0.0   \n",
      "2            0     0       0      0  ...      0.0          0.0      0.0   \n",
      "3          160    90      37      7  ...      NaN          NaN      NaN   \n",
      "4           16     7       5      1  ...      NaN          NaN      NaN   \n",
      "\n",
      "   Sweeper clearances  Throw outs  Goal Kicks  Yellow cards  Red cards Fouls  \\\n",
      "0                28.0       375.0       489.0             2          0     0   \n",
      "1                 0.0         0.0         0.0             0          0     0   \n",
      "2                 0.0         0.0         0.0             0          0     0   \n",
      "3                 NaN         NaN         NaN            23          0   125   \n",
      "4                 NaN         NaN         NaN             2          0     9   \n",
      "\n",
      "   Offsides  \n",
      "0       NaN  \n",
      "1       NaN  \n",
      "2       NaN  \n",
      "3       8.0  \n",
      "4       0.0  \n",
      "\n",
      "[5 rows x 59 columns]\n"
     ]
    }
   ],
   "source": [
    "# Load a sample dataset\n",
    "df = pd.read_csv('Football.csv')\n",
    "print(df.head())\n",
    "plt.show()"
   ]
  },
  {
   "cell_type": "code",
   "execution_count": 10,
   "id": "e0468e22-f415-478b-b1a5-a9214a19c5b4",
   "metadata": {},
   "outputs": [],
   "source": [
    "sns.set_style(\"whitegrid\")"
   ]
  },
  {
   "cell_type": "code",
   "execution_count": null,
   "id": "a78c082f-3c0e-4a55-81bd-663b06577a3a",
   "metadata": {},
   "outputs": [],
   "source": []
  }
 ],
 "metadata": {
  "kernelspec": {
   "display_name": "Python 3 (ipykernel)",
   "language": "python",
   "name": "python3"
  },
  "language_info": {
   "codemirror_mode": {
    "name": "ipython",
    "version": 3
   },
   "file_extension": ".py",
   "mimetype": "text/x-python",
   "name": "python",
   "nbconvert_exporter": "python",
   "pygments_lexer": "ipython3",
   "version": "3.12.2"
  }
 },
 "nbformat": 4,
 "nbformat_minor": 5
}
